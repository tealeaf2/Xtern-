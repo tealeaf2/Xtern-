{
 "cells": [
  {
   "cell_type": "markdown",
   "metadata": {},
   "source": [
    "<h3>Ethical Implications<h3>"
   ]
  },
  {
   "cell_type": "markdown",
   "metadata": {},
   "source": [
    "Data that is collected from a person has to be consentual and recorded anonymously. Morally, it means that this data can be shared because it is data collected for an AI model, but when collected in the first place, the person who is giving this data should know the full implications of what it will be used for and that it will be recorded anonymously. \n",
    "\n",
    "Storage should be placed on a trustworthy database or company that will adhere to ethical principles. This data should not be leaked and kept safely as long as the consumer understands what it is being used for. Otherwise, violation of this principle brings distrust about the data and how it was collected.\n",
    "\n",
    "Biases that the data will have will only be based on the data itself, with no biases on gender, personality, or anything outside the variables collected. If there is anything outside of that, it means that the data has been tampered with, and the quality of data will have errors when analyzed.\n",
    "\n",
    "In summary, I would consider anonymous and consentual data collection to be implied, with the ability for this data to be reused for analysis. There should be nothing else that should effect this data other than the variables collected."
   ]
  },
  {
   "cell_type": "markdown",
   "metadata": {},
   "source": [
    "<h3>Business Outcome<h3>"
   ]
  },
  {
   "cell_type": "markdown",
   "metadata": {},
   "source": [
    "It is implied that with this data, businesses will find the best trends and relationships for the most amount of sales possible. Because data collection is important for growth, businesses will naturally try to expand their storage of data and consider other biases that might lead to ways to increase growth as well. This can give businesses a competitive advantage, or it can leave businesses lagging behind competitors who make data driven decisions. In terms of both outcomes, the customer could have a better experience or the data collected would negatively impact their reputation.\n",
    "\n",
    "Data storage should be efficient and proper, where data can be easily accessed by anyone who needs it to ensure faster processes in the business. It should also allow for scalability, so that as the business gets bigger, data could scale as well. This comes back to data collection, because since data gives better advantages, it would make it right that data should also stored in an effiective manner.\n",
    "\n",
    "To expand their data, businesses will naturally collect data that is labeled, selected, or influenced by many other outside factors. These data biases lead to data collection that can be skewed and lead to misinterpreted observations. This implies that data biases have to be fair and equal to enhance the quality of data collected."
   ]
  },
  {
   "cell_type": "markdown",
   "metadata": {},
   "source": [
    "<h3>Technical Implications<h3>"
   ]
  },
  {
   "cell_type": "markdown",
   "metadata": {},
   "source": [
    "Data collection needs to be clean and to also not have any errors. To do this, data that is collected should be processed and cleaned to make a proper dataset that eliminates any errors. Collection should also have encryption so that the process is safe and harbors no malware for the consumer. \n",
    "\n",
    "For storage, data needs to have multiple backup strategies and redundancies in terms of data loss or hardware failures. To prevent this, the design should be efficient and proper, perhaps using frameworks that specializes in storing databases. In the end, as the business grows, the database should be able to scale as more data is collected or more parameters are added.\n",
    "\n",
    "Biases should be eliminated as data collected should not be sampled from one specific group or source. Biases in training the data should also use multiple techniques to drive biases down, such as regularization or dropout. This can help the data be overfit and allow for better representation and fairness."
   ]
  }
 ],
 "metadata": {
  "language_info": {
   "name": "python"
  }
 },
 "nbformat": 4,
 "nbformat_minor": 2
}
