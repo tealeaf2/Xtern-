{
 "cells": [
  {
   "cell_type": "code",
   "execution_count": 25,
   "metadata": {},
   "outputs": [
    {
     "name": "stdout",
     "output_type": "stream",
     "text": [
      "        Year                    Major                University  Time  \\\n",
      "0     Year 2                  Physics  Indiana State University    12   \n",
      "1     Year 3                Chemistry     Ball State University    14   \n",
      "2     Year 3                Chemistry         Butler University    12   \n",
      "3     Year 2                  Biology  Indiana State University    11   \n",
      "4     Year 3  Business Administration         Butler University    12   \n",
      "...      ...                      ...                       ...   ...   \n",
      "4995  Year 2              Mathematics     Ball State University    11   \n",
      "4996  Year 3                Astronomy  Indiana State University    12   \n",
      "4997  Year 3                Chemistry         Butler University    13   \n",
      "4998  Year 3                Astronomy         Butler University    15   \n",
      "4999  Year 2                Economics  University of Notre Dame    15   \n",
      "\n",
      "                                                  Order  \n",
      "0                                  Fried Catfish Basket  \n",
      "1                                       Sugar Cream Pie  \n",
      "2                                    Indiana Pork Chili  \n",
      "3                                  Fried Catfish Basket  \n",
      "4     Indiana Corn on the Cob (brushed with garlic b...  \n",
      "...                                                 ...  \n",
      "4995                   Breaded Pork Tenderloin Sandwich  \n",
      "4996  Ultimate Grilled Cheese Sandwich (with bacon a...  \n",
      "4997                                    Sugar Cream Pie  \n",
      "4998                                    Sugar Cream Pie  \n",
      "4999                   Breaded Pork Tenderloin Sandwich  \n",
      "\n",
      "[5000 rows x 5 columns]\n",
      "(5000, 5)\n"
     ]
    }
   ],
   "source": [
    "import pandas as pd\n",
    "import matplotlib.pyplot as plt\n",
    "import os\n",
    "\n",
    "df = pd.read_csv(\"Xtern_traindata.csv\")\n",
    "df_copy = df.copy()\n",
    "print(df)\n",
    "print(df.shape)"
   ]
  },
  {
   "cell_type": "code",
   "execution_count": 26,
   "metadata": {},
   "outputs": [],
   "source": [
    "#Changing all of the strings into numerical values\n",
    "df['Year']=df['Year'].astype('category').cat.codes\n",
    "df['Major']=df['Major'].astype('category').cat.codes\n",
    "df['University']=df['University'].astype('category').cat.codes\n",
    "df['Order']=df['Order'].astype('category').cat.codes"
   ]
  },
  {
   "cell_type": "code",
   "execution_count": 27,
   "metadata": {},
   "outputs": [],
   "source": [
    "from sklearn.metrics import confusion_matrix \n",
    "from sklearn.model_selection import train_test_split \n",
    "\n",
    "#Since time as inputs, not sure how to exclude Time as its already a number\n",
    "inputs = [\"Year\", \"Major\", \"University\", \"Time\"]\n",
    "output = \"Order\"\n",
    "orders_X, orders_Y = df[inputs].values, df[output].values\n",
    "\n",
    "# Split data 70% into train and 30% into test\n",
    "x_orders_train, x_orders_test, y_orders_train, y_orders_test = train_test_split(orders_X, \n",
    "                                                                                orders_Y, \n",
    "                                                                                test_size = 0.30,\n",
    "                                                                                random_state = 0,\n",
    "                                                                                stratify=orders_Y)\n"
   ]
  },
  {
   "cell_type": "code",
   "execution_count": 28,
   "metadata": {},
   "outputs": [
    {
     "name": "stdout",
     "output_type": "stream",
     "text": [
      "LogisticRegression(C=10.0, max_iter=10000)\n"
     ]
    }
   ],
   "source": [
    "from sklearn.linear_model import LogisticRegression\n",
    "\n",
    "reg = 0.1\n",
    "\n",
    "model = LogisticRegression(C=1/reg, \n",
    "                           solver='lbfgs', \n",
    "                           multi_class='auto', \n",
    "                           max_iter=10000).fit(x_orders_train, y_orders_train)\n",
    "print (model)"
   ]
  },
  {
   "cell_type": "code",
   "execution_count": 29,
   "metadata": {},
   "outputs": [
    {
     "name": "stdout",
     "output_type": "stream",
     "text": [
      "Predicted labels:  [2 8 7 6 3 7 3 5 7 6 5 5 7 3 5 5 7 6 7 7 5 3 8 5 5 5 5 5 9 7]\n",
      "Actual labels   :  [2 9 7 0 7 7 3 0 7 6 5 5 7 1 5 5 7 0 9 8 6 4 9 0 1 5 4 5 8 7]\n",
      "Overall Accuracy: 0.44866666666666666\n",
      "Overall Precision: 0.40079350167966415\n",
      "Overall Recall: 0.44866666666666666\n",
      "[[  8   3   8   0   0  20  84   7   4  14]\n",
      " [  1  75  13  17   0  32   2  13   0   0]\n",
      " [  3  18  74   6   0   2  20   3  18   3]\n",
      " [  0   2   0  78   0   1   0  37  24   3]\n",
      " [  0  19   0  70   0   5   0  28  11  16]\n",
      " [  0   6   2   0   0 131   6   2   1   0]\n",
      " [  6   1   7   0   0  23  99   0   3  14]\n",
      " [  1   7   2  16   0  26   5  85   4   8]\n",
      " [  1  12  14   1   0  11   2  14  67  30]\n",
      " [  2   5   4   2   0   5  27  27  23  56]]\n"
     ]
    },
    {
     "name": "stderr",
     "output_type": "stream",
     "text": [
      "/Library/Frameworks/Python.framework/Versions/3.11/lib/python3.11/site-packages/sklearn/metrics/_classification.py:1469: UndefinedMetricWarning: Precision is ill-defined and being set to 0.0 in labels with no predicted samples. Use `zero_division` parameter to control this behavior.\n",
      "  _warn_prf(average, modifier, msg_start, len(result))\n"
     ]
    }
   ],
   "source": [
    "from sklearn.metrics import accuracy_score, precision_score, recall_score\n",
    "\n",
    "predictions = model.predict(x_orders_test)\n",
    "print('Predicted labels: ', predictions[:30])\n",
    "print('Actual labels   : ' ,y_orders_test[:30])\n",
    "\n",
    "print(\"Overall Accuracy:\",accuracy_score(y_orders_test, predictions))\n",
    "print(\"Overall Precision:\",precision_score(y_orders_test, predictions, average='weighted'))\n",
    "print(\"Overall Recall:\",recall_score(y_orders_test, predictions, average='weighted'))\n",
    "mcm = confusion_matrix(y_orders_test, predictions)\n",
    "print(mcm)"
   ]
  },
  {
   "cell_type": "code",
   "execution_count": 30,
   "metadata": {},
   "outputs": [
    {
     "name": "stdout",
     "output_type": "stream",
     "text": [
      "Overall Accuracy: 0.5573333333333333\n",
      "Overall Precision: 0.5668067664703302\n",
      "Average AUC: 0.8946631881091021\n"
     ]
    }
   ],
   "source": [
    "from sklearn.preprocessing import StandardScaler\n",
    "from sklearn.compose import ColumnTransformer\n",
    "from sklearn.pipeline import Pipeline\n",
    "from sklearn.svm import SVC\n",
    "from sklearn.metrics import roc_auc_score\n",
    "\n",
    "columns = [0,1,2,3]\n",
    "transformer = Pipeline(steps=[\n",
    "    ('scaler', StandardScaler())\n",
    "    ])\n",
    "\n",
    "preprocessor = ColumnTransformer(\n",
    "    transformers=[\n",
    "        ('preprocess', transformer, columns)])\n",
    "\n",
    "pipeline = Pipeline(steps=[('preprocessor', preprocessor),\n",
    "                           ('regressor', SVC(probability=True))])\n",
    "model = pipeline.fit(x_orders_train, y_orders_train)\n",
    "\n",
    "predictions = model.predict(x_orders_test)\n",
    "prob = model.predict_proba(x_orders_test)\n",
    "print(\"Overall Accuracy:\",accuracy_score(y_orders_test, predictions))\n",
    "print(\"Overall Precision:\",precision_score(y_orders_test, predictions, average='weighted'))\n",
    "print('Average AUC:', roc_auc_score(y_orders_test,prob, multi_class='ovr'))"
   ]
  }
 ],
 "metadata": {
  "kernelspec": {
   "display_name": "Python 3",
   "language": "python",
   "name": "python3"
  },
  "language_info": {
   "codemirror_mode": {
    "name": "ipython",
    "version": 3
   },
   "file_extension": ".py",
   "mimetype": "text/x-python",
   "name": "python",
   "nbconvert_exporter": "python",
   "pygments_lexer": "ipython3",
   "version": "3.11.0"
  }
 },
 "nbformat": 4,
 "nbformat_minor": 2
}
